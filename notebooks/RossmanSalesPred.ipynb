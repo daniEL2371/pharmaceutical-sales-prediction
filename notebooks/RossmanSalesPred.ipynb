{
  "nbformat": 4,
  "nbformat_minor": 0,
  "metadata": {
    "colab": {
      "name": "RossmanSalesPred.ipynb",
      "provenance": [],
      "collapsed_sections": []
    },
    "kernelspec": {
      "name": "python3",
      "display_name": "Python 3"
    },
    "language_info": {
      "name": "python"
    },
    "accelerator": "GPU"
  },
  "cells": [
    {
      "cell_type": "code",
      "metadata": {
        "colab": {
          "base_uri": "https://localhost:8080/"
        },
        "id": "qSFQNCP4FZir",
        "outputId": "b98700b9-5cde-4a0a-d370-d64180deacb7"
      },
      "source": [
        "from google.colab import drive\n",
        "drive.mount(\"/content/drive\")"
      ],
      "execution_count": 10,
      "outputs": [
        {
          "output_type": "stream",
          "text": [
            "Drive already mounted at /content/drive; to attempt to forcibly remount, call drive.mount(\"/content/drive\", force_remount=True).\n"
          ],
          "name": "stdout"
        }
      ]
    },
    {
      "cell_type": "code",
      "metadata": {
        "id": "9_zrnoAWP_Rv"
      },
      "source": [
        "# !ln -s ./drive/MyDrive/RossmanSalesPred/data/\n",
        "# !ln -s ./drive/MyDrive/RossmanSalesPred/models/\n",
        "\n",
        "# !ln -s ./drive/MyDrive/RossmanSalesPred/scripts/\n"
      ],
      "execution_count": 11,
      "outputs": []
    },
    {
      "cell_type": "code",
      "metadata": {
        "id": "Q9EWzdl-QY_-"
      },
      "source": [
        "import os\n",
        "import sys\n",
        "sys.path.append(os.path.abspath(os.path.join('scripts')))\n",
        "from IPython.display import Markdown, display, Image\n",
        "import warnings\n",
        "warnings.filterwarnings('ignore')"
      ],
      "execution_count": 12,
      "outputs": []
    },
    {
      "cell_type": "code",
      "metadata": {
        "id": "1gBC4_CgQlWA"
      },
      "source": [
        "import seaborn as sns\n",
        "import matplotlib.pyplot as plt\n",
        "%matplotlib inline\n",
        "import plotly.express as px\n",
        "import numpy as np\n",
        "from statsmodels.tsa.stattools import adfuller, acf, pacf\n",
        "import pandas as pd\n",
        "\n",
        "import tensorflow as tf\n",
        "from tensorflow.keras.models import Sequential\n",
        "from tensorflow.keras.layers import Dense\n",
        "from tensorflow.keras.layers import LSTM\n",
        "sns.set()\n"
      ],
      "execution_count": 13,
      "outputs": []
    },
    {
      "cell_type": "code",
      "metadata": {
        "id": "D1GZeGkXRg4A"
      },
      "source": [
        "from scripts.helper import Helper\n",
        "import plots"
      ],
      "execution_count": 14,
      "outputs": []
    },
    {
      "cell_type": "code",
      "metadata": {
        "id": "F6hdg56_UbeV"
      },
      "source": [
        "helper = Helper()"
      ],
      "execution_count": 15,
      "outputs": []
    },
    {
      "cell_type": "code",
      "metadata": {
        "colab": {
          "base_uri": "https://localhost:8080/"
        },
        "id": "wP6tJekUUh6t",
        "outputId": "058928ec-bb34-42be-9f35-0579a3c05003"
      },
      "source": [
        "train = helper.read_csv(\"./data/train.csv\")\n",
        "test = helper.read_csv(\"./data/test.csv\")"
      ],
      "execution_count": 9,
      "outputs": [
        {
          "output_type": "stream",
          "text": [
            "file read as csv\n",
            "file read as csv\n"
          ],
          "name": "stdout"
        }
      ]
    },
    {
      "cell_type": "code",
      "metadata": {
        "colab": {
          "base_uri": "https://localhost:8080/",
          "height": 773
        },
        "id": "f00QJXbtWpBV",
        "outputId": "818922f0-b4c2-44fd-dca8-b33c3b87f822"
      },
      "source": [
        "display(train.head())\n",
        "display(train.describe())\n",
        "display(train.info())"
      ],
      "execution_count": 16,
      "outputs": [
        {
          "output_type": "display_data",
          "data": {
            "text/html": [
              "<div>\n",
              "<style scoped>\n",
              "    .dataframe tbody tr th:only-of-type {\n",
              "        vertical-align: middle;\n",
              "    }\n",
              "\n",
              "    .dataframe tbody tr th {\n",
              "        vertical-align: top;\n",
              "    }\n",
              "\n",
              "    .dataframe thead th {\n",
              "        text-align: right;\n",
              "    }\n",
              "</style>\n",
              "<table border=\"1\" class=\"dataframe\">\n",
              "  <thead>\n",
              "    <tr style=\"text-align: right;\">\n",
              "      <th></th>\n",
              "      <th>Store</th>\n",
              "      <th>DayOfWeek</th>\n",
              "      <th>Date</th>\n",
              "      <th>Sales</th>\n",
              "      <th>Customers</th>\n",
              "      <th>Open</th>\n",
              "      <th>Promo</th>\n",
              "      <th>StateHoliday</th>\n",
              "      <th>SchoolHoliday</th>\n",
              "    </tr>\n",
              "  </thead>\n",
              "  <tbody>\n",
              "    <tr>\n",
              "      <th>0</th>\n",
              "      <td>1</td>\n",
              "      <td>5</td>\n",
              "      <td>2015-07-31</td>\n",
              "      <td>5263</td>\n",
              "      <td>555</td>\n",
              "      <td>1</td>\n",
              "      <td>1</td>\n",
              "      <td>0</td>\n",
              "      <td>1</td>\n",
              "    </tr>\n",
              "    <tr>\n",
              "      <th>1</th>\n",
              "      <td>2</td>\n",
              "      <td>5</td>\n",
              "      <td>2015-07-31</td>\n",
              "      <td>6064</td>\n",
              "      <td>625</td>\n",
              "      <td>1</td>\n",
              "      <td>1</td>\n",
              "      <td>0</td>\n",
              "      <td>1</td>\n",
              "    </tr>\n",
              "    <tr>\n",
              "      <th>2</th>\n",
              "      <td>3</td>\n",
              "      <td>5</td>\n",
              "      <td>2015-07-31</td>\n",
              "      <td>8314</td>\n",
              "      <td>821</td>\n",
              "      <td>1</td>\n",
              "      <td>1</td>\n",
              "      <td>0</td>\n",
              "      <td>1</td>\n",
              "    </tr>\n",
              "    <tr>\n",
              "      <th>3</th>\n",
              "      <td>4</td>\n",
              "      <td>5</td>\n",
              "      <td>2015-07-31</td>\n",
              "      <td>13995</td>\n",
              "      <td>1498</td>\n",
              "      <td>1</td>\n",
              "      <td>1</td>\n",
              "      <td>0</td>\n",
              "      <td>1</td>\n",
              "    </tr>\n",
              "    <tr>\n",
              "      <th>4</th>\n",
              "      <td>5</td>\n",
              "      <td>5</td>\n",
              "      <td>2015-07-31</td>\n",
              "      <td>4822</td>\n",
              "      <td>559</td>\n",
              "      <td>1</td>\n",
              "      <td>1</td>\n",
              "      <td>0</td>\n",
              "      <td>1</td>\n",
              "    </tr>\n",
              "  </tbody>\n",
              "</table>\n",
              "</div>"
            ],
            "text/plain": [
              "   Store  DayOfWeek        Date  Sales  ...  Open  Promo  StateHoliday SchoolHoliday\n",
              "0      1          5  2015-07-31   5263  ...     1      1             0             1\n",
              "1      2          5  2015-07-31   6064  ...     1      1             0             1\n",
              "2      3          5  2015-07-31   8314  ...     1      1             0             1\n",
              "3      4          5  2015-07-31  13995  ...     1      1             0             1\n",
              "4      5          5  2015-07-31   4822  ...     1      1             0             1\n",
              "\n",
              "[5 rows x 9 columns]"
            ]
          },
          "metadata": {
            "tags": []
          }
        },
        {
          "output_type": "display_data",
          "data": {
            "text/html": [
              "<div>\n",
              "<style scoped>\n",
              "    .dataframe tbody tr th:only-of-type {\n",
              "        vertical-align: middle;\n",
              "    }\n",
              "\n",
              "    .dataframe tbody tr th {\n",
              "        vertical-align: top;\n",
              "    }\n",
              "\n",
              "    .dataframe thead th {\n",
              "        text-align: right;\n",
              "    }\n",
              "</style>\n",
              "<table border=\"1\" class=\"dataframe\">\n",
              "  <thead>\n",
              "    <tr style=\"text-align: right;\">\n",
              "      <th></th>\n",
              "      <th>Store</th>\n",
              "      <th>DayOfWeek</th>\n",
              "      <th>Sales</th>\n",
              "      <th>Customers</th>\n",
              "      <th>Open</th>\n",
              "      <th>Promo</th>\n",
              "      <th>SchoolHoliday</th>\n",
              "    </tr>\n",
              "  </thead>\n",
              "  <tbody>\n",
              "    <tr>\n",
              "      <th>count</th>\n",
              "      <td>1.017209e+06</td>\n",
              "      <td>1.017209e+06</td>\n",
              "      <td>1.017209e+06</td>\n",
              "      <td>1.017209e+06</td>\n",
              "      <td>1.017209e+06</td>\n",
              "      <td>1.017209e+06</td>\n",
              "      <td>1.017209e+06</td>\n",
              "    </tr>\n",
              "    <tr>\n",
              "      <th>mean</th>\n",
              "      <td>5.584297e+02</td>\n",
              "      <td>3.998341e+00</td>\n",
              "      <td>5.773819e+03</td>\n",
              "      <td>6.331459e+02</td>\n",
              "      <td>8.301067e-01</td>\n",
              "      <td>3.815145e-01</td>\n",
              "      <td>1.786467e-01</td>\n",
              "    </tr>\n",
              "    <tr>\n",
              "      <th>std</th>\n",
              "      <td>3.219087e+02</td>\n",
              "      <td>1.997391e+00</td>\n",
              "      <td>3.849926e+03</td>\n",
              "      <td>4.644117e+02</td>\n",
              "      <td>3.755392e-01</td>\n",
              "      <td>4.857586e-01</td>\n",
              "      <td>3.830564e-01</td>\n",
              "    </tr>\n",
              "    <tr>\n",
              "      <th>min</th>\n",
              "      <td>1.000000e+00</td>\n",
              "      <td>1.000000e+00</td>\n",
              "      <td>0.000000e+00</td>\n",
              "      <td>0.000000e+00</td>\n",
              "      <td>0.000000e+00</td>\n",
              "      <td>0.000000e+00</td>\n",
              "      <td>0.000000e+00</td>\n",
              "    </tr>\n",
              "    <tr>\n",
              "      <th>25%</th>\n",
              "      <td>2.800000e+02</td>\n",
              "      <td>2.000000e+00</td>\n",
              "      <td>3.727000e+03</td>\n",
              "      <td>4.050000e+02</td>\n",
              "      <td>1.000000e+00</td>\n",
              "      <td>0.000000e+00</td>\n",
              "      <td>0.000000e+00</td>\n",
              "    </tr>\n",
              "    <tr>\n",
              "      <th>50%</th>\n",
              "      <td>5.580000e+02</td>\n",
              "      <td>4.000000e+00</td>\n",
              "      <td>5.744000e+03</td>\n",
              "      <td>6.090000e+02</td>\n",
              "      <td>1.000000e+00</td>\n",
              "      <td>0.000000e+00</td>\n",
              "      <td>0.000000e+00</td>\n",
              "    </tr>\n",
              "    <tr>\n",
              "      <th>75%</th>\n",
              "      <td>8.380000e+02</td>\n",
              "      <td>6.000000e+00</td>\n",
              "      <td>7.856000e+03</td>\n",
              "      <td>8.370000e+02</td>\n",
              "      <td>1.000000e+00</td>\n",
              "      <td>1.000000e+00</td>\n",
              "      <td>0.000000e+00</td>\n",
              "    </tr>\n",
              "    <tr>\n",
              "      <th>max</th>\n",
              "      <td>1.115000e+03</td>\n",
              "      <td>7.000000e+00</td>\n",
              "      <td>4.155100e+04</td>\n",
              "      <td>7.388000e+03</td>\n",
              "      <td>1.000000e+00</td>\n",
              "      <td>1.000000e+00</td>\n",
              "      <td>1.000000e+00</td>\n",
              "    </tr>\n",
              "  </tbody>\n",
              "</table>\n",
              "</div>"
            ],
            "text/plain": [
              "              Store     DayOfWeek  ...         Promo  SchoolHoliday\n",
              "count  1.017209e+06  1.017209e+06  ...  1.017209e+06   1.017209e+06\n",
              "mean   5.584297e+02  3.998341e+00  ...  3.815145e-01   1.786467e-01\n",
              "std    3.219087e+02  1.997391e+00  ...  4.857586e-01   3.830564e-01\n",
              "min    1.000000e+00  1.000000e+00  ...  0.000000e+00   0.000000e+00\n",
              "25%    2.800000e+02  2.000000e+00  ...  0.000000e+00   0.000000e+00\n",
              "50%    5.580000e+02  4.000000e+00  ...  0.000000e+00   0.000000e+00\n",
              "75%    8.380000e+02  6.000000e+00  ...  1.000000e+00   0.000000e+00\n",
              "max    1.115000e+03  7.000000e+00  ...  1.000000e+00   1.000000e+00\n",
              "\n",
              "[8 rows x 7 columns]"
            ]
          },
          "metadata": {
            "tags": []
          }
        },
        {
          "output_type": "stream",
          "text": [
            "<class 'pandas.core.frame.DataFrame'>\n",
            "RangeIndex: 1017209 entries, 0 to 1017208\n",
            "Data columns (total 9 columns):\n",
            " #   Column         Non-Null Count    Dtype \n",
            "---  ------         --------------    ----- \n",
            " 0   Store          1017209 non-null  int64 \n",
            " 1   DayOfWeek      1017209 non-null  int64 \n",
            " 2   Date           1017209 non-null  object\n",
            " 3   Sales          1017209 non-null  int64 \n",
            " 4   Customers      1017209 non-null  int64 \n",
            " 5   Open           1017209 non-null  int64 \n",
            " 6   Promo          1017209 non-null  int64 \n",
            " 7   StateHoliday   1017209 non-null  object\n",
            " 8   SchoolHoliday  1017209 non-null  int64 \n",
            "dtypes: int64(7), object(2)\n",
            "memory usage: 69.8+ MB\n"
          ],
          "name": "stdout"
        },
        {
          "output_type": "display_data",
          "data": {
            "text/plain": [
              "None"
            ]
          },
          "metadata": {
            "tags": []
          }
        }
      ]
    },
    {
      "cell_type": "code",
      "metadata": {
        "colab": {
          "base_uri": "https://localhost:8080/"
        },
        "id": "Xq3Vz_u_XICH",
        "outputId": "b971af6e-5b27-4e51-fb48-5e19900ea658"
      },
      "source": [
        "helper.percent_missing(train)"
      ],
      "execution_count": 17,
      "outputs": [
        {
          "output_type": "execute_result",
          "data": {
            "text/plain": [
              "0.0"
            ]
          },
          "metadata": {
            "tags": []
          },
          "execution_count": 17
        }
      ]
    },
    {
      "cell_type": "code",
      "metadata": {
        "id": "NkIbVPPLU5fh"
      },
      "source": [
        "def get_feature(df):\n",
        "  return df[[\"Date\", \"Sales\"]]"
      ],
      "execution_count": 18,
      "outputs": []
    },
    {
      "cell_type": "code",
      "metadata": {
        "id": "qO8CfmxIYjrj"
      },
      "source": [
        "def drop_closed(df):\n",
        "  df = df[df['Open'] == 1]\n",
        "  return df"
      ],
      "execution_count": 19,
      "outputs": []
    },
    {
      "cell_type": "code",
      "metadata": {
        "id": "6rawnTGwaIBs"
      },
      "source": [
        ""
      ],
      "execution_count": 19,
      "outputs": []
    },
    {
      "cell_type": "code",
      "metadata": {
        "id": "TsYQwEevXNh7"
      },
      "source": [
        "def add_scaled_sales(df):\n",
        "  scaled_sales = helper.scaler(df[[\"Sales\"]], mode=\"minmax\", columns=[\"scaled_sales\"])\n",
        "  df[\"scaled_sales\"] = scaled_sales[\"scaled_sales\"].to_list()\n",
        "  return df"
      ],
      "execution_count": 20,
      "outputs": []
    },
    {
      "cell_type": "code",
      "metadata": {
        "id": "QJWVUmFQenc8"
      },
      "source": [
        "def handle_outliers(df, col, method=\"lower_upper\"):\n",
        "        \n",
        "        df = df.copy()\n",
        "        q1 = df[col].quantile(0.25)\n",
        "        q3 = df[col].quantile(0.75)\n",
        "\n",
        "        lower_bound = q1 - ((1.5) * (q3 - q1))\n",
        "        upper_bound = q3 + ((1.5) * (q3 - q1))\n",
        "\n",
        "        if method == \"mean\":\n",
        "            df[col] = np.where(df[col] < lower_bound,   df[col].mean(), df[col])\n",
        "            df[col] = np.where(df[col] > upper_bound, df[col].mean(), df[col])\n",
        "\n",
        "        elif  method == \"mode\":\n",
        "            df[col] = np.where(df[col] < lower_bound,   df[col].mode()[0], df[col])\n",
        "            df[col] = np.where(df[col] > upper_bound, df[col].mode()[0], df[col])\n",
        "        else:\n",
        "            df[col] = np.where(df[col] < lower_bound, lower_bound, df[col])\n",
        "            df[col] = np.where(df[col] > upper_bound, upper_bound, df[col])\n",
        "\n",
        "        return df"
      ],
      "execution_count": 21,
      "outputs": []
    },
    {
      "cell_type": "code",
      "metadata": {
        "id": "AEaHlo59ZQp_"
      },
      "source": [
        "train[\"Sales\"] = train[\"Sales\"].astype(\"float\")"
      ],
      "execution_count": 22,
      "outputs": []
    },
    {
      "cell_type": "code",
      "metadata": {
        "id": "fwWDdCawX5qH"
      },
      "source": [
        "data = drop_closed(train)\n",
        "data = get_feature(data)\n",
        "data = handle_outliers(data, \"Sales\")\n"
      ],
      "execution_count": 23,
      "outputs": []
    },
    {
      "cell_type": "code",
      "metadata": {
        "colab": {
          "base_uri": "https://localhost:8080/",
          "height": 297
        },
        "id": "MAVBZQWhjKl3",
        "outputId": "6d3f835b-b457-48c3-b14f-e47b0eb27293"
      },
      "source": [
        "data_agg = data.groupby(\"Date\").agg({\"Sales\": \"sum\"})\n",
        "helper.percent_missing(data_agg)\n",
        "data_agg.describe()\n"
      ],
      "execution_count": 24,
      "outputs": [
        {
          "output_type": "execute_result",
          "data": {
            "text/html": [
              "<div>\n",
              "<style scoped>\n",
              "    .dataframe tbody tr th:only-of-type {\n",
              "        vertical-align: middle;\n",
              "    }\n",
              "\n",
              "    .dataframe tbody tr th {\n",
              "        vertical-align: top;\n",
              "    }\n",
              "\n",
              "    .dataframe thead th {\n",
              "        text-align: right;\n",
              "    }\n",
              "</style>\n",
              "<table border=\"1\" class=\"dataframe\">\n",
              "  <thead>\n",
              "    <tr style=\"text-align: right;\">\n",
              "      <th></th>\n",
              "      <th>Sales</th>\n",
              "    </tr>\n",
              "  </thead>\n",
              "  <tbody>\n",
              "    <tr>\n",
              "      <th>count</th>\n",
              "      <td>9.420000e+02</td>\n",
              "    </tr>\n",
              "    <tr>\n",
              "      <th>mean</th>\n",
              "      <td>6.131829e+06</td>\n",
              "    </tr>\n",
              "    <tr>\n",
              "      <th>std</th>\n",
              "      <td>3.040224e+06</td>\n",
              "    </tr>\n",
              "    <tr>\n",
              "      <th>min</th>\n",
              "      <td>9.357950e+04</td>\n",
              "    </tr>\n",
              "    <tr>\n",
              "      <th>25%</th>\n",
              "      <td>5.645826e+06</td>\n",
              "    </tr>\n",
              "    <tr>\n",
              "      <th>50%</th>\n",
              "      <td>6.521237e+06</td>\n",
              "    </tr>\n",
              "    <tr>\n",
              "      <th>75%</th>\n",
              "      <td>8.055236e+06</td>\n",
              "    </tr>\n",
              "    <tr>\n",
              "      <th>max</th>\n",
              "      <td>1.327816e+07</td>\n",
              "    </tr>\n",
              "  </tbody>\n",
              "</table>\n",
              "</div>"
            ],
            "text/plain": [
              "              Sales\n",
              "count  9.420000e+02\n",
              "mean   6.131829e+06\n",
              "std    3.040224e+06\n",
              "min    9.357950e+04\n",
              "25%    5.645826e+06\n",
              "50%    6.521237e+06\n",
              "75%    8.055236e+06\n",
              "max    1.327816e+07"
            ]
          },
          "metadata": {
            "tags": []
          },
          "execution_count": 24
        }
      ]
    },
    {
      "cell_type": "code",
      "metadata": {
        "id": "OdB20jodkNSY"
      },
      "source": [
        ""
      ],
      "execution_count": 24,
      "outputs": []
    },
    {
      "cell_type": "code",
      "metadata": {
        "id": "XFXDXC1kjrAp"
      },
      "source": [
        "def check_stationary(df, col):\n",
        "  adfResult = adfuller(df[col].values, autolag='AIC')\n",
        "  print(f'ADF Statistic: {adfResult[0]}')\n",
        "  print(f'p-value: {adfResult[1]}')\n",
        "  return adfResult[1] >= 0.05"
      ],
      "execution_count": 25,
      "outputs": []
    },
    {
      "cell_type": "code",
      "metadata": {
        "colab": {
          "base_uri": "https://localhost:8080/"
        },
        "id": "HeRFCg8Rj_F8",
        "outputId": "3dd25aa5-1c0d-47b1-a167-91a052d1d9ed"
      },
      "source": [
        "check_stationary(data_agg, \"Sales\")"
      ],
      "execution_count": 26,
      "outputs": [
        {
          "output_type": "stream",
          "text": [
            "ADF Statistic: -4.667799884472922\n",
            "p-value: 9.668867829862378e-05\n"
          ],
          "name": "stdout"
        },
        {
          "output_type": "execute_result",
          "data": {
            "text/plain": [
              "False"
            ]
          },
          "metadata": {
            "tags": []
          },
          "execution_count": 26
        }
      ]
    },
    {
      "cell_type": "code",
      "metadata": {
        "id": "afbdITerkrUk"
      },
      "source": [
        "def corrPlots(array: np.array, title: str):\n",
        "    plt.figure(figsize=(30, 5))\n",
        "    plt.title(title)\n",
        "    plt.bar(range(len(array)), array)\n",
        "    plt.grid(True)\n",
        "    plt.show()"
      ],
      "execution_count": 27,
      "outputs": []
    },
    {
      "cell_type": "code",
      "metadata": {
        "colab": {
          "base_uri": "https://localhost:8080/",
          "height": 177
        },
        "id": "URW-Mos7l6-J",
        "outputId": "a086c697-4da7-4c2f-c7d2-ce8a84afaba4"
      },
      "source": [
        "acfSalesScaled = acf(data_agg[\"Sales\"].values, fft=True, nlags=40)\n",
        "acfSalesScaledNp = np.array(acfSalesScaled)\n",
        "corrPlots(acfSalesScaledNp, 'Auto correaltion of Sales')"
      ],
      "execution_count": 28,
      "outputs": [
        {
          "output_type": "display_data",
          "data": {
            "image/png": "[encoded data removed]",
            "text/plain": [
              "<Figure size 2160x360 with 1 Axes>"
            ]
          },
          "metadata": {
            "tags": []
          }
        }
      ]
    },
    {
      "cell_type": "code",
      "metadata": {
        "colab": {
          "base_uri": "https://localhost:8080/",
          "height": 177
        },
        "id": "z99q-kbjm2Lk",
        "outputId": "efc7442b-9c70-45e4-b893-b9ac2ccd8f92"
      },
      "source": [
        "pacfSalesScaled = pacf(data_agg[\"Sales\"].values, nlags=40)\n",
        "pacfSalesScaledNp = np.array(pacfSalesScaled)\n",
        "corrPlots(pacfSalesScaledNp, 'Partial correaltion of Sales')"
      ],
      "execution_count": 29,
      "outputs": [
        {
          "output_type": "display_data",
          "data": {
            "image/png": "[encoded data removed]",
            "text/plain": [
              "<Figure size 2160x360 with 1 Axes>"
            ]
          },
          "metadata": {
            "tags": []
          }
        }
      ]
    },
    {
      "cell_type": "code",
      "metadata": {
        "id": "9eKBEJnjz9Ho"
      },
      "source": [
        "def windowed_dataset(series, window_size, batch_size): \n",
        "  series = tf.expand_dims(series, axis=-1)\n",
        "  dataset = tf.data.Dataset.from_tensor_slices(series)\n",
        "  dataset = dataset.window(window_size + 1, shift=1, drop_remainder=True) \n",
        "  dataset = dataset.flat_map(lambda window: window.batch(window_size + 1))\n",
        "  dataset = dataset.map(lambda window: (window[:-1], window[-1:]))\n",
        "  dataset = dataset.batch(batch_size).prefetch(1)\n",
        "  return dataset"
      ],
      "execution_count": 30,
      "outputs": []
    },
    {
      "cell_type": "code",
      "metadata": {
        "id": "ZvewXhFv04rR"
      },
      "source": [
        "SIZE = len(data_agg[\"Sales\"])\n",
        "WINDOW_SIZE = 45\n",
        "BATCH_SIZE= SIZE-WINDOW_SIZE*2\n",
        "EPOCHS = 400"
      ],
      "execution_count": 31,
      "outputs": []
    },
    {
      "cell_type": "code",
      "metadata": {
        "id": "PIBGzbEf7zdo"
      },
      "source": [
        ""
      ],
      "execution_count": 31,
      "outputs": []
    },
    {
      "cell_type": "code",
      "metadata": {
        "colab": {
          "base_uri": "https://localhost:8080/"
        },
        "id": "f1kLBIzy6eKy",
        "outputId": "8fccd20b-1d22-4b69-c7ec-59f0ed6ba114"
      },
      "source": [
        "scaled_df = add_scaled_sales(data_agg)\n",
        "data_agg[\"Sales\"].isna().any().sum()\n",
        "\n"
      ],
      "execution_count": 32,
      "outputs": [
        {
          "output_type": "execute_result",
          "data": {
            "text/plain": [
              "0"
            ]
          },
          "metadata": {
            "tags": []
          },
          "execution_count": 32
        }
      ]
    },
    {
      "cell_type": "code",
      "metadata": {
        "id": "kjLSpL5V1CCv"
      },
      "source": [
        "train_sales = scaled_df[\"scaled_sales\"].values[0:BATCH_SIZE].astype('float32')\n",
        "valid_sales = scaled_df[\"scaled_sales\"].values[BATCH_SIZE:].astype('float32')\n",
        "TrainDataset = windowed_dataset(train_sales, WINDOW_SIZE, BATCH_SIZE)\n",
        "ValidDataset = windowed_dataset(valid_sales, WINDOW_SIZE, BATCH_SIZE)"
      ],
      "execution_count": 33,
      "outputs": []
    },
    {
      "cell_type": "code",
      "metadata": {
        "colab": {
          "base_uri": "https://localhost:8080/"
        },
        "id": "BLVEAyfY2tHr",
        "outputId": "26e0efd2-c82f-4e3f-8d16-750fb31637d0"
      },
      "source": [
        "model = Sequential()\n",
        "model.add(LSTM(40, input_shape=[None, 1], return_sequences=True))\n",
        "model.add(LSTM(20, input_shape=[None, 1]))\n",
        "model.add(Dense(1))\n",
        "model.compile(loss=\"huber_loss\", optimizer='adam')\n",
        "model.summary()"
      ],
      "execution_count": 34,
      "outputs": [
        {
          "output_type": "stream",
          "text": [
            "Model: \"sequential\"\n",
            "_________________________________________________________________\n",
            "Layer (type)                 Output Shape              Param #   \n",
            "=================================================================\n",
            "lstm (LSTM)                  (None, None, 40)          6720      \n",
            "_________________________________________________________________\n",
            "lstm_1 (LSTM)                (None, 20)                4880      \n",
            "_________________________________________________________________\n",
            "dense (Dense)                (None, 1)                 21        \n",
            "=================================================================\n",
            "Total params: 11,621\n",
            "Trainable params: 11,621\n",
            "Non-trainable params: 0\n",
            "_________________________________________________________________\n"
          ],
          "name": "stdout"
        }
      ]
    },
    {
      "cell_type": "code",
      "metadata": {
        "colab": {
          "base_uri": "https://localhost:8080/"
        },
        "id": "aSRRHi2a51lJ",
        "outputId": "e13f32e2-a258-401b-d005-7442f0b2a1f2"
      },
      "source": [
        "history = model.fit(TrainDataset, epochs=EPOCHS, validation_data=ValidDataset, verbose=1)"
      ],
      "execution_count": 35,
      "outputs": [
        {
          "output_type": "stream",
          "text": [
            "Epoch 1/400\n",
            "1/1 [==============================] - 9s 9s/step - loss: 0.1589 - val_loss: 0.1635\n",
            "Epoch 2/400\n",
            "1/1 [==============================] - 0s 115ms/step - loss: 0.1417 - val_loss: 0.1449\n",
            "Epoch 3/400\n",
            "1/1 [==============================] - 0s 113ms/step - loss: 0.1256 - val_loss: 0.1274\n",
            "Epoch 4/400\n",
            "1/1 [==============================] - 0s 118ms/step - loss: 0.1106 - val_loss: 0.1109\n",
            "Epoch 5/400\n",
            "1/1 [==============================] - 0s 115ms/step - loss: 0.0965 - val_loss: 0.0955\n",
            "Epoch 6/400\n",
            "1/1 [==============================] - 0s 116ms/step - loss: 0.0834 - val_loss: 0.0810\n",
            "Epoch 7/400\n",
            "1/1 [==============================] - 0s 120ms/step - loss: 0.0712 - val_loss: 0.0674\n",
            "Epoch 8/400\n",
            "1/1 [==============================] - 0s 114ms/step - loss: 0.0598 - val_loss: 0.0550\n",
            "Epoch 9/400\n",
            "1/1 [==============================] - 0s 112ms/step - loss: 0.0495 - val_loss: 0.0440\n",
            "Epoch 10/400\n",
            "1/1 [==============================] - 0s 119ms/step - loss: 0.0406 - val_loss: 0.0349\n",
            "Epoch 11/400\n",
            "1/1 [==============================] - 0s 116ms/step - loss: 0.0334 - val_loss: 0.0284\n",
            "Epoch 12/400\n",
            "1/1 [==============================] - 0s 110ms/step - loss: 0.0287 - val_loss: 0.0251\n",
            "Epoch 13/400\n",
            "1/1 [==============================] - 0s 111ms/step - loss: 0.0271 - val_loss: 0.0256\n",
            "Epoch 14/400\n",
            "1/1 [==============================] - 0s 127ms/step - loss: 0.0288 - val_loss: 0.0286\n",
            "Epoch 15/400\n",
            "1/1 [==============================] - 0s 115ms/step - loss: 0.0327 - val_loss: 0.0315\n",
            "Epoch 16/400\n",
            "1/1 [==============================] - 0s 110ms/step - loss: 0.0360 - val_loss: 0.0324\n",
            "Epoch 17/400\n",
            "1/1 [==============================] - 0s 110ms/step - loss: 0.0371 - val_loss: 0.0315\n",
            "Epoch 18/400\n",
            "1/1 [==============================] - 0s 111ms/step - loss: 0.0361 - val_loss: 0.0296\n",
            "Epoch 19/400\n",
            "1/1 [==============================] - 0s 111ms/step - loss: 0.0339 - val_loss: 0.0275\n",
            "Epoch 20/400\n",
            "1/1 [==============================] - 0s 114ms/step - loss: 0.0314 - val_loss: 0.0260\n",
            "Epoch 21/400\n",
            "1/1 [==============================] - 0s 114ms/step - loss: 0.0294 - val_loss: 0.0251\n",
            "Epoch 22/400\n",
            "1/1 [==============================] - 0s 125ms/step - loss: 0.0280 - val_loss: 0.0250\n",
            "Epoch 23/400\n",
            "1/1 [==============================] - 0s 116ms/step - loss: 0.0273 - val_loss: 0.0253\n",
            "Epoch 24/400\n",
            "1/1 [==============================] - 0s 112ms/step - loss: 0.0271 - val_loss: 0.0260\n",
            "Epoch 25/400\n",
            "1/1 [==============================] - 0s 113ms/step - loss: 0.0273 - val_loss: 0.0269\n",
            "Epoch 26/400\n",
            "1/1 [==============================] - 0s 113ms/step - loss: 0.0277 - val_loss: 0.0277\n",
            "Epoch 27/400\n",
            "1/1 [==============================] - 0s 115ms/step - loss: 0.0282 - val_loss: 0.0283\n",
            "Epoch 28/400\n",
            "1/1 [==============================] - 0s 114ms/step - loss: 0.0286 - val_loss: 0.0288\n",
            "Epoch 29/400\n",
            "1/1 [==============================] - 0s 122ms/step - loss: 0.0289 - val_loss: 0.0290\n",
            "Epoch 30/400\n",
            "1/1 [==============================] - 0s 113ms/step - loss: 0.0291 - val_loss: 0.0290\n",
            "Epoch 31/400\n",
            "1/1 [==============================] - 0s 112ms/step - loss: 0.0291 - val_loss: 0.0288\n",
            "Epoch 32/400\n",
            "1/1 [==============================] - 0s 117ms/step - loss: 0.0289 - val_loss: 0.0285\n",
            "Epoch 33/400\n",
            "1/1 [==============================] - 0s 110ms/step - loss: 0.0287 - val_loss: 0.0280\n",
            "Epoch 34/400\n",
            "1/1 [==============================] - 0s 114ms/step - loss: 0.0284 - val_loss: 0.0275\n",
            "Epoch 35/400\n",
            "1/1 [==============================] - 0s 115ms/step - loss: 0.0281 - val_loss: 0.0269\n",
            "Epoch 36/400\n",
            "1/1 [==============================] - 0s 115ms/step - loss: 0.0278 - val_loss: 0.0264\n",
            "Epoch 37/400\n",
            "1/1 [==============================] - 0s 125ms/step - loss: 0.0275 - val_loss: 0.0260\n",
            "Epoch 38/400\n",
            "1/1 [==============================] - 0s 112ms/step - loss: 0.0273 - val_loss: 0.0256\n",
            "Epoch 39/400\n",
            "1/1 [==============================] - 0s 112ms/step - loss: 0.0272 - val_loss: 0.0253\n",
            "Epoch 40/400\n",
            "1/1 [==============================] - 0s 111ms/step - loss: 0.0271 - val_loss: 0.0251\n",
            "Epoch 41/400\n",
            "1/1 [==============================] - 0s 121ms/step - loss: 0.0272 - val_loss: 0.0250\n",
            "Epoch 42/400\n",
            "1/1 [==============================] - 0s 113ms/step - loss: 0.0272 - val_loss: 0.0250\n",
            "Epoch 43/400\n",
            "1/1 [==============================] - 0s 119ms/step - loss: 0.0273 - val_loss: 0.0250\n",
            "Epoch 44/400\n",
            "1/1 [==============================] - 0s 123ms/step - loss: 0.0274 - val_loss: 0.0250\n",
            "Epoch 45/400\n",
            "1/1 [==============================] - 0s 125ms/step - loss: 0.0275 - val_loss: 0.0250\n",
            "Epoch 46/400\n",
            "1/1 [==============================] - 0s 120ms/step - loss: 0.0275 - val_loss: 0.0250\n",
            "Epoch 47/400\n",
            "1/1 [==============================] - 0s 115ms/step - loss: 0.0275 - val_loss: 0.0250\n",
            "Epoch 48/400\n",
            "1/1 [==============================] - 0s 114ms/step - loss: 0.0274 - val_loss: 0.0250\n",
            "Epoch 49/400\n",
            "1/1 [==============================] - 0s 113ms/step - loss: 0.0274 - val_loss: 0.0250\n",
            "Epoch 50/400\n",
            "1/1 [==============================] - 0s 116ms/step - loss: 0.0273 - val_loss: 0.0250\n",
            "Epoch 51/400\n",
            "1/1 [==============================] - 0s 115ms/step - loss: 0.0272 - val_loss: 0.0251\n",
            "Epoch 52/400\n",
            "1/1 [==============================] - 0s 116ms/step - loss: 0.0271 - val_loss: 0.0252\n",
            "Epoch 53/400\n",
            "1/1 [==============================] - 0s 114ms/step - loss: 0.0271 - val_loss: 0.0253\n",
            "Epoch 54/400\n",
            "1/1 [==============================] - 0s 116ms/step - loss: 0.0271 - val_loss: 0.0254\n",
            "Epoch 55/400\n",
            "1/1 [==============================] - 0s 113ms/step - loss: 0.0271 - val_loss: 0.0255\n",
            "Epoch 56/400\n",
            "1/1 [==============================] - 0s 118ms/step - loss: 0.0271 - val_loss: 0.0256\n",
            "Epoch 57/400\n",
            "1/1 [==============================] - 0s 113ms/step - loss: 0.0271 - val_loss: 0.0257\n",
            "Epoch 58/400\n",
            "1/1 [==============================] - 0s 116ms/step - loss: 0.0272 - val_loss: 0.0257\n",
            "Epoch 59/400\n",
            "1/1 [==============================] - 0s 130ms/step - loss: 0.0272 - val_loss: 0.0258\n",
            "Epoch 60/400\n",
            "1/1 [==============================] - 0s 114ms/step - loss: 0.0272 - val_loss: 0.0257\n",
            "Epoch 61/400\n",
            "1/1 [==============================] - 0s 115ms/step - loss: 0.0272 - val_loss: 0.0257\n",
            "Epoch 62/400\n",
            "1/1 [==============================] - 0s 121ms/step - loss: 0.0272 - val_loss: 0.0256\n",
            "Epoch 63/400\n",
            "1/1 [==============================] - 0s 116ms/step - loss: 0.0271 - val_loss: 0.0256\n",
            "Epoch 64/400\n",
            "1/1 [==============================] - 0s 113ms/step - loss: 0.0271 - val_loss: 0.0255\n",
            "Epoch 65/400\n",
            "1/1 [==============================] - 0s 115ms/step - loss: 0.0271 - val_loss: 0.0254\n",
            "Epoch 66/400\n",
            "1/1 [==============================] - 0s 126ms/step - loss: 0.0271 - val_loss: 0.0253\n",
            "Epoch 67/400\n",
            "1/1 [==============================] - 0s 116ms/step - loss: 0.0271 - val_loss: 0.0253\n",
            "Epoch 68/400\n",
            "1/1 [==============================] - 0s 115ms/step - loss: 0.0271 - val_loss: 0.0252\n",
            "Epoch 69/400\n",
            "1/1 [==============================] - 0s 117ms/step - loss: 0.0271 - val_loss: 0.0252\n",
            "Epoch 70/400\n",
            "1/1 [==============================] - 0s 118ms/step - loss: 0.0271 - val_loss: 0.0251\n",
            "Epoch 71/400\n",
            "1/1 [==============================] - 0s 122ms/step - loss: 0.0271 - val_loss: 0.0251\n",
            "Epoch 72/400\n",
            "1/1 [==============================] - 0s 116ms/step - loss: 0.0271 - val_loss: 0.0251\n",
            "Epoch 73/400\n",
            "1/1 [==============================] - 0s 126ms/step - loss: 0.0271 - val_loss: 0.0251\n",
            "Epoch 74/400\n",
            "1/1 [==============================] - 0s 126ms/step - loss: 0.0271 - val_loss: 0.0251\n",
            "Epoch 75/400\n",
            "1/1 [==============================] - 0s 119ms/step - loss: 0.0271 - val_loss: 0.0251\n",
            "Epoch 76/400\n",
            "1/1 [==============================] - 0s 116ms/step - loss: 0.0270 - val_loss: 0.0251\n",
            "Epoch 77/400\n",
            "1/1 [==============================] - 0s 115ms/step - loss: 0.0270 - val_loss: 0.0251\n",
            "Epoch 78/400\n",
            "1/1 [==============================] - 0s 118ms/step - loss: 0.0270 - val_loss: 0.0251\n",
            "Epoch 79/400\n",
            "1/1 [==============================] - 0s 118ms/step - loss: 0.0270 - val_loss: 0.0252\n",
            "Epoch 80/400\n",
            "1/1 [==============================] - 0s 118ms/step - loss: 0.0270 - val_loss: 0.0252\n",
            "Epoch 81/400\n",
            "1/1 [==============================] - 0s 128ms/step - loss: 0.0270 - val_loss: 0.0252\n",
            "Epoch 82/400\n",
            "1/1 [==============================] - 0s 118ms/step - loss: 0.0270 - val_loss: 0.0253\n",
            "Epoch 83/400\n",
            "1/1 [==============================] - 0s 114ms/step - loss: 0.0270 - val_loss: 0.0253\n",
            "Epoch 84/400\n",
            "1/1 [==============================] - 0s 124ms/step - loss: 0.0270 - val_loss: 0.0253\n",
            "Epoch 85/400\n",
            "1/1 [==============================] - 0s 116ms/step - loss: 0.0270 - val_loss: 0.0253\n",
            "Epoch 86/400\n",
            "1/1 [==============================] - 0s 126ms/step - loss: 0.0270 - val_loss: 0.0253\n",
            "Epoch 87/400\n",
            "1/1 [==============================] - 0s 114ms/step - loss: 0.0270 - val_loss: 0.0253\n",
            "Epoch 88/400\n",
            "1/1 [==============================] - 0s 124ms/step - loss: 0.0270 - val_loss: 0.0253\n",
            "Epoch 89/400\n",
            "1/1 [==============================] - 0s 118ms/step - loss: 0.0270 - val_loss: 0.0253\n",
            "Epoch 90/400\n",
            "1/1 [==============================] - 0s 117ms/step - loss: 0.0270 - val_loss: 0.0252\n",
            "Epoch 91/400\n",
            "1/1 [==============================] - 0s 119ms/step - loss: 0.0270 - val_loss: 0.0252\n",
            "Epoch 92/400\n",
            "1/1 [==============================] - 0s 115ms/step - loss: 0.0270 - val_loss: 0.0252\n",
            "Epoch 93/400\n",
            "1/1 [==============================] - 0s 113ms/step - loss: 0.0270 - val_loss: 0.0252\n",
            "Epoch 94/400\n",
            "1/1 [==============================] - 0s 116ms/step - loss: 0.0270 - val_loss: 0.0251\n",
            "Epoch 95/400\n",
            "1/1 [==============================] - 0s 119ms/step - loss: 0.0270 - val_loss: 0.0251\n",
            "Epoch 96/400\n",
            "1/1 [==============================] - 0s 118ms/step - loss: 0.0270 - val_loss: 0.0251\n",
            "Epoch 97/400\n",
            "1/1 [==============================] - 0s 112ms/step - loss: 0.0270 - val_loss: 0.0251\n",
            "Epoch 98/400\n",
            "1/1 [==============================] - 0s 116ms/step - loss: 0.0270 - val_loss: 0.0251\n",
            "Epoch 99/400\n",
            "1/1 [==============================] - 0s 118ms/step - loss: 0.0269 - val_loss: 0.0251\n",
            "Epoch 100/400\n",
            "1/1 [==============================] - 0s 114ms/step - loss: 0.0269 - val_loss: 0.0251\n",
            "Epoch 101/400\n",
            "1/1 [==============================] - 0s 114ms/step - loss: 0.0269 - val_loss: 0.0251\n",
            "Epoch 102/400\n",
            "1/1 [==============================] - 0s 117ms/step - loss: 0.0269 - val_loss: 0.0251\n",
            "Epoch 103/400\n",
            "1/1 [==============================] - 0s 126ms/step - loss: 0.0269 - val_loss: 0.0251\n",
            "Epoch 104/400\n",
            "1/1 [==============================] - 0s 119ms/step - loss: 0.0269 - val_loss: 0.0251\n",
            "Epoch 105/400\n",
            "1/1 [==============================] - 0s 113ms/step - loss: 0.0269 - val_loss: 0.0251\n",
            "Epoch 106/400\n",
            "1/1 [==============================] - 0s 121ms/step - loss: 0.0269 - val_loss: 0.0251\n",
            "Epoch 107/400\n",
            "1/1 [==============================] - 0s 113ms/step - loss: 0.0269 - val_loss: 0.0251\n",
            "Epoch 108/400\n",
            "1/1 [==============================] - 0s 123ms/step - loss: 0.0269 - val_loss: 0.0251\n",
            "Epoch 109/400\n",
            "1/1 [==============================] - 0s 114ms/step - loss: 0.0269 - val_loss: 0.0251\n",
            "Epoch 110/400\n",
            "1/1 [==============================] - 0s 121ms/step - loss: 0.0269 - val_loss: 0.0251\n",
            "Epoch 111/400\n",
            "1/1 [==============================] - 0s 114ms/step - loss: 0.0269 - val_loss: 0.0251\n",
            "Epoch 112/400\n",
            "1/1 [==============================] - 0s 118ms/step - loss: 0.0269 - val_loss: 0.0251\n",
            "Epoch 113/400\n",
            "1/1 [==============================] - 0s 115ms/step - loss: 0.0269 - val_loss: 0.0251\n",
            "Epoch 114/400\n",
            "1/1 [==============================] - 0s 117ms/step - loss: 0.0269 - val_loss: 0.0251\n",
            "Epoch 115/400\n",
            "1/1 [==============================] - 0s 118ms/step - loss: 0.0269 - val_loss: 0.0251\n",
            "Epoch 116/400\n",
            "1/1 [==============================] - 0s 117ms/step - loss: 0.0269 - val_loss: 0.0251\n",
            "Epoch 117/400\n",
            "1/1 [==============================] - 0s 110ms/step - loss: 0.0269 - val_loss: 0.0251\n",
            "Epoch 118/400\n",
            "1/1 [==============================] - 0s 113ms/step - loss: 0.0269 - val_loss: 0.0251\n",
            "Epoch 119/400\n",
            "1/1 [==============================] - 0s 116ms/step - loss: 0.0269 - val_loss: 0.0251\n",
            "Epoch 120/400\n",
            "1/1 [==============================] - 0s 120ms/step - loss: 0.0269 - val_loss: 0.0250\n",
            "Epoch 121/400\n",
            "1/1 [==============================] - 0s 119ms/step - loss: 0.0268 - val_loss: 0.0250\n",
            "Epoch 122/400\n",
            "1/1 [==============================] - 0s 121ms/step - loss: 0.0268 - val_loss: 0.0250\n",
            "Epoch 123/400\n",
            "1/1 [==============================] - 0s 122ms/step - loss: 0.0268 - val_loss: 0.0250\n",
            "Epoch 124/400\n",
            "1/1 [==============================] - 0s 116ms/step - loss: 0.0268 - val_loss: 0.0250\n",
            "Epoch 125/400\n",
            "1/1 [==============================] - 0s 121ms/step - loss: 0.0268 - val_loss: 0.0250\n",
            "Epoch 126/400\n",
            "1/1 [==============================] - 0s 115ms/step - loss: 0.0268 - val_loss: 0.0250\n",
            "Epoch 127/400\n",
            "1/1 [==============================] - 0s 124ms/step - loss: 0.0268 - val_loss: 0.0250\n",
            "Epoch 128/400\n",
            "1/1 [==============================] - 0s 115ms/step - loss: 0.0268 - val_loss: 0.0250\n",
            "Epoch 129/400\n",
            "1/1 [==============================] - 0s 115ms/step - loss: 0.0268 - val_loss: 0.0250\n",
            "Epoch 130/400\n",
            "1/1 [==============================] - 0s 114ms/step - loss: 0.0268 - val_loss: 0.0250\n",
            "Epoch 131/400\n",
            "1/1 [==============================] - 0s 127ms/step - loss: 0.0268 - val_loss: 0.0250\n",
            "Epoch 132/400\n",
            "1/1 [==============================] - 0s 139ms/step - loss: 0.0268 - val_loss: 0.0250\n",
            "Epoch 133/400\n",
            "1/1 [==============================] - 0s 125ms/step - loss: 0.0268 - val_loss: 0.0250\n",
            "Epoch 134/400\n",
            "1/1 [==============================] - 0s 128ms/step - loss: 0.0268 - val_loss: 0.0250\n",
            "Epoch 135/400\n",
            "1/1 [==============================] - 0s 121ms/step - loss: 0.0268 - val_loss: 0.0250\n",
            "Epoch 136/400\n",
            "1/1 [==============================] - 0s 147ms/step - loss: 0.0268 - val_loss: 0.0250\n",
            "Epoch 137/400\n",
            "1/1 [==============================] - 0s 127ms/step - loss: 0.0267 - val_loss: 0.0250\n",
            "Epoch 138/400\n",
            "1/1 [==============================] - 0s 124ms/step - loss: 0.0267 - val_loss: 0.0250\n",
            "Epoch 139/400\n",
            "1/1 [==============================] - 0s 133ms/step - loss: 0.0267 - val_loss: 0.0250\n",
            "Epoch 140/400\n",
            "1/1 [==============================] - 0s 128ms/step - loss: 0.0267 - val_loss: 0.0250\n",
            "Epoch 141/400\n",
            "1/1 [==============================] - 0s 122ms/step - loss: 0.0267 - val_loss: 0.0250\n",
            "Epoch 142/400\n",
            "1/1 [==============================] - 0s 128ms/step - loss: 0.0267 - val_loss: 0.0250\n",
            "Epoch 143/400\n",
            "1/1 [==============================] - 0s 134ms/step - loss: 0.0267 - val_loss: 0.0249\n",
            "Epoch 144/400\n",
            "1/1 [==============================] - 0s 126ms/step - loss: 0.0267 - val_loss: 0.0249\n",
            "Epoch 145/400\n",
            "1/1 [==============================] - 0s 129ms/step - loss: 0.0267 - val_loss: 0.0249\n",
            "Epoch 146/400\n",
            "1/1 [==============================] - 0s 139ms/step - loss: 0.0267 - val_loss: 0.0249\n",
            "Epoch 147/400\n",
            "1/1 [==============================] - 0s 127ms/step - loss: 0.0267 - val_loss: 0.0249\n",
            "Epoch 148/400\n",
            "1/1 [==============================] - 0s 126ms/step - loss: 0.0267 - val_loss: 0.0249\n",
            "Epoch 149/400\n",
            "1/1 [==============================] - 0s 128ms/step - loss: 0.0267 - val_loss: 0.0249\n",
            "Epoch 150/400\n",
            "1/1 [==============================] - 0s 130ms/step - loss: 0.0266 - val_loss: 0.0249\n",
            "Epoch 151/400\n",
            "1/1 [==============================] - 0s 126ms/step - loss: 0.0266 - val_loss: 0.0249\n",
            "Epoch 152/400\n",
            "1/1 [==============================] - 0s 131ms/step - loss: 0.0266 - val_loss: 0.0249\n",
            "Epoch 153/400\n",
            "1/1 [==============================] - 0s 132ms/step - loss: 0.0266 - val_loss: 0.0249\n",
            "Epoch 154/400\n",
            "1/1 [==============================] - 0s 123ms/step - loss: 0.0266 - val_loss: 0.0249\n",
            "Epoch 155/400\n",
            "1/1 [==============================] - 0s 120ms/step - loss: 0.0266 - val_loss: 0.0249\n",
            "Epoch 156/400\n",
            "1/1 [==============================] - 0s 144ms/step - loss: 0.0266 - val_loss: 0.0249\n",
            "Epoch 157/400\n",
            "1/1 [==============================] - 0s 123ms/step - loss: 0.0266 - val_loss: 0.0249\n",
            "Epoch 158/400\n",
            "1/1 [==============================] - 0s 128ms/step - loss: 0.0266 - val_loss: 0.0249\n",
            "Epoch 159/400\n",
            "1/1 [==============================] - 0s 133ms/step - loss: 0.0266 - val_loss: 0.0249\n",
            "Epoch 160/400\n",
            "1/1 [==============================] - 0s 128ms/step - loss: 0.0266 - val_loss: 0.0248\n",
            "Epoch 161/400\n",
            "1/1 [==============================] - 0s 128ms/step - loss: 0.0266 - val_loss: 0.0248\n",
            "Epoch 162/400\n",
            "1/1 [==============================] - 0s 125ms/step - loss: 0.0265 - val_loss: 0.0248\n",
            "Epoch 163/400\n",
            "1/1 [==============================] - 0s 128ms/step - loss: 0.0265 - val_loss: 0.0248\n",
            "Epoch 164/400\n",
            "1/1 [==============================] - 0s 133ms/step - loss: 0.0265 - val_loss: 0.0248\n",
            "Epoch 165/400\n",
            "1/1 [==============================] - 0s 123ms/step - loss: 0.0265 - val_loss: 0.0248\n",
            "Epoch 166/400\n",
            "1/1 [==============================] - 0s 131ms/step - loss: 0.0265 - val_loss: 0.0248\n",
            "Epoch 167/400\n",
            "1/1 [==============================] - 0s 123ms/step - loss: 0.0265 - val_loss: 0.0248\n",
            "Epoch 168/400\n",
            "1/1 [==============================] - 0s 127ms/step - loss: 0.0265 - val_loss: 0.0248\n",
            "Epoch 169/400\n",
            "1/1 [==============================] - 0s 130ms/step - loss: 0.0265 - val_loss: 0.0248\n",
            "Epoch 170/400\n",
            "1/1 [==============================] - 0s 131ms/step - loss: 0.0265 - val_loss: 0.0248\n",
            "Epoch 171/400\n",
            "1/1 [==============================] - 0s 124ms/step - loss: 0.0265 - val_loss: 0.0248\n",
            "Epoch 172/400\n",
            "1/1 [==============================] - 0s 133ms/step - loss: 0.0265 - val_loss: 0.0248\n",
            "Epoch 173/400\n",
            "1/1 [==============================] - 0s 123ms/step - loss: 0.0265 - val_loss: 0.0247\n",
            "Epoch 174/400\n",
            "1/1 [==============================] - 0s 134ms/step - loss: 0.0264 - val_loss: 0.0247\n",
            "Epoch 175/400\n",
            "1/1 [==============================] - 0s 131ms/step - loss: 0.0264 - val_loss: 0.0247\n",
            "Epoch 176/400\n",
            "1/1 [==============================] - 0s 127ms/step - loss: 0.0264 - val_loss: 0.0247\n",
            "Epoch 177/400\n",
            "1/1 [==============================] - 0s 124ms/step - loss: 0.0264 - val_loss: 0.0247\n",
            "Epoch 178/400\n",
            "1/1 [==============================] - 0s 136ms/step - loss: 0.0264 - val_loss: 0.0247\n",
            "Epoch 179/400\n",
            "1/1 [==============================] - 0s 122ms/step - loss: 0.0264 - val_loss: 0.0247\n",
            "Epoch 180/400\n",
            "1/1 [==============================] - 0s 129ms/step - loss: 0.0264 - val_loss: 0.0247\n",
            "Epoch 181/400\n",
            "1/1 [==============================] - 0s 137ms/step - loss: 0.0264 - val_loss: 0.0247\n",
            "Epoch 182/400\n",
            "1/1 [==============================] - 0s 125ms/step - loss: 0.0264 - val_loss: 0.0247\n",
            "Epoch 183/400\n",
            "1/1 [==============================] - 0s 131ms/step - loss: 0.0263 - val_loss: 0.0247\n",
            "Epoch 184/400\n",
            "1/1 [==============================] - 0s 125ms/step - loss: 0.0263 - val_loss: 0.0246\n",
            "Epoch 185/400\n",
            "1/1 [==============================] - 0s 131ms/step - loss: 0.0263 - val_loss: 0.0246\n",
            "Epoch 186/400\n",
            "1/1 [==============================] - 0s 127ms/step - loss: 0.0263 - val_loss: 0.0246\n",
            "Epoch 187/400\n",
            "1/1 [==============================] - 0s 124ms/step - loss: 0.0263 - val_loss: 0.0246\n",
            "Epoch 188/400\n",
            "1/1 [==============================] - 0s 140ms/step - loss: 0.0263 - val_loss: 0.0246\n",
            "Epoch 189/400\n",
            "1/1 [==============================] - 0s 138ms/step - loss: 0.0263 - val_loss: 0.0246\n",
            "Epoch 190/400\n",
            "1/1 [==============================] - 0s 124ms/step - loss: 0.0263 - val_loss: 0.0246\n",
            "Epoch 191/400\n",
            "1/1 [==============================] - 0s 124ms/step - loss: 0.0263 - val_loss: 0.0246\n",
            "Epoch 192/400\n",
            "1/1 [==============================] - 0s 127ms/step - loss: 0.0262 - val_loss: 0.0245\n",
            "Epoch 193/400\n",
            "1/1 [==============================] - 0s 124ms/step - loss: 0.0262 - val_loss: 0.0245\n",
            "Epoch 194/400\n",
            "1/1 [==============================] - 0s 132ms/step - loss: 0.0262 - val_loss: 0.0245\n",
            "Epoch 195/400\n",
            "1/1 [==============================] - 0s 128ms/step - loss: 0.0262 - val_loss: 0.0245\n",
            "Epoch 196/400\n",
            "1/1 [==============================] - 0s 126ms/step - loss: 0.0262 - val_loss: 0.0245\n",
            "Epoch 197/400\n",
            "1/1 [==============================] - 0s 124ms/step - loss: 0.0262 - val_loss: 0.0245\n",
            "Epoch 198/400\n",
            "1/1 [==============================] - 0s 125ms/step - loss: 0.0262 - val_loss: 0.0245\n",
            "Epoch 199/400\n",
            "1/1 [==============================] - 0s 127ms/step - loss: 0.0262 - val_loss: 0.0244\n",
            "Epoch 200/400\n",
            "1/1 [==============================] - 0s 128ms/step - loss: 0.0261 - val_loss: 0.0244\n",
            "Epoch 201/400\n",
            "1/1 [==============================] - 0s 121ms/step - loss: 0.0261 - val_loss: 0.0244\n",
            "Epoch 202/400\n",
            "1/1 [==============================] - 0s 133ms/step - loss: 0.0261 - val_loss: 0.0244\n",
            "Epoch 203/400\n",
            "1/1 [==============================] - 0s 126ms/step - loss: 0.0261 - val_loss: 0.0244\n",
            "Epoch 204/400\n",
            "1/1 [==============================] - 0s 129ms/step - loss: 0.0261 - val_loss: 0.0244\n",
            "Epoch 205/400\n",
            "1/1 [==============================] - 0s 122ms/step - loss: 0.0261 - val_loss: 0.0243\n",
            "Epoch 206/400\n",
            "1/1 [==============================] - 0s 131ms/step - loss: 0.0261 - val_loss: 0.0243\n",
            "Epoch 207/400\n",
            "1/1 [==============================] - 0s 133ms/step - loss: 0.0261 - val_loss: 0.0243\n",
            "Epoch 208/400\n",
            "1/1 [==============================] - 0s 126ms/step - loss: 0.0260 - val_loss: 0.0243\n",
            "Epoch 209/400\n",
            "1/1 [==============================] - 0s 131ms/step - loss: 0.0260 - val_loss: 0.0243\n",
            "Epoch 210/400\n",
            "1/1 [==============================] - 0s 134ms/step - loss: 0.0260 - val_loss: 0.0242\n",
            "Epoch 211/400\n",
            "1/1 [==============================] - 0s 131ms/step - loss: 0.0260 - val_loss: 0.0242\n",
            "Epoch 212/400\n",
            "1/1 [==============================] - 0s 128ms/step - loss: 0.0260 - val_loss: 0.0242\n",
            "Epoch 213/400\n",
            "1/1 [==============================] - 0s 132ms/step - loss: 0.0260 - val_loss: 0.0242\n",
            "Epoch 214/400\n",
            "1/1 [==============================] - 0s 128ms/step - loss: 0.0260 - val_loss: 0.0241\n",
            "Epoch 215/400\n",
            "1/1 [==============================] - 0s 123ms/step - loss: 0.0259 - val_loss: 0.0241\n",
            "Epoch 216/400\n",
            "1/1 [==============================] - 0s 131ms/step - loss: 0.0259 - val_loss: 0.0241\n",
            "Epoch 217/400\n",
            "1/1 [==============================] - 0s 127ms/step - loss: 0.0259 - val_loss: 0.0241\n",
            "Epoch 218/400\n",
            "1/1 [==============================] - 0s 140ms/step - loss: 0.0259 - val_loss: 0.0240\n",
            "Epoch 219/400\n",
            "1/1 [==============================] - 0s 132ms/step - loss: 0.0259 - val_loss: 0.0240\n",
            "Epoch 220/400\n",
            "1/1 [==============================] - 0s 125ms/step - loss: 0.0259 - val_loss: 0.0240\n",
            "Epoch 221/400\n",
            "1/1 [==============================] - 0s 121ms/step - loss: 0.0259 - val_loss: 0.0240\n",
            "Epoch 222/400\n",
            "1/1 [==============================] - 0s 125ms/step - loss: 0.0259 - val_loss: 0.0239\n",
            "Epoch 223/400\n",
            "1/1 [==============================] - 0s 123ms/step - loss: 0.0258 - val_loss: 0.0239\n",
            "Epoch 224/400\n",
            "1/1 [==============================] - 0s 122ms/step - loss: 0.0258 - val_loss: 0.0239\n",
            "Epoch 225/400\n",
            "1/1 [==============================] - 0s 130ms/step - loss: 0.0258 - val_loss: 0.0238\n",
            "Epoch 226/400\n",
            "1/1 [==============================] - 0s 129ms/step - loss: 0.0258 - val_loss: 0.0238\n",
            "Epoch 227/400\n",
            "1/1 [==============================] - 0s 127ms/step - loss: 0.0258 - val_loss: 0.0238\n",
            "Epoch 228/400\n",
            "1/1 [==============================] - 0s 127ms/step - loss: 0.0258 - val_loss: 0.0237\n",
            "Epoch 229/400\n",
            "1/1 [==============================] - 0s 124ms/step - loss: 0.0258 - val_loss: 0.0237\n",
            "Epoch 230/400\n",
            "1/1 [==============================] - 0s 124ms/step - loss: 0.0257 - val_loss: 0.0237\n",
            "Epoch 231/400\n",
            "1/1 [==============================] - 0s 124ms/step - loss: 0.0257 - val_loss: 0.0236\n",
            "Epoch 232/400\n",
            "1/1 [==============================] - 0s 129ms/step - loss: 0.0257 - val_loss: 0.0236\n",
            "Epoch 233/400\n",
            "1/1 [==============================] - 0s 128ms/step - loss: 0.0257 - val_loss: 0.0236\n",
            "Epoch 234/400\n",
            "1/1 [==============================] - 0s 119ms/step - loss: 0.0257 - val_loss: 0.0235\n",
            "Epoch 235/400\n",
            "1/1 [==============================] - 0s 125ms/step - loss: 0.0257 - val_loss: 0.0235\n",
            "Epoch 236/400\n",
            "1/1 [==============================] - 0s 125ms/step - loss: 0.0257 - val_loss: 0.0235\n",
            "Epoch 237/400\n",
            "1/1 [==============================] - 0s 126ms/step - loss: 0.0257 - val_loss: 0.0234\n",
            "Epoch 238/400\n",
            "1/1 [==============================] - 0s 131ms/step - loss: 0.0257 - val_loss: 0.0234\n",
            "Epoch 239/400\n",
            "1/1 [==============================] - 0s 131ms/step - loss: 0.0256 - val_loss: 0.0233\n",
            "Epoch 240/400\n",
            "1/1 [==============================] - 0s 126ms/step - loss: 0.0256 - val_loss: 0.0233\n",
            "Epoch 241/400\n",
            "1/1 [==============================] - 0s 129ms/step - loss: 0.0256 - val_loss: 0.0233\n",
            "Epoch 242/400\n",
            "1/1 [==============================] - 0s 122ms/step - loss: 0.0256 - val_loss: 0.0232\n",
            "Epoch 243/400\n",
            "1/1 [==============================] - 0s 130ms/step - loss: 0.0256 - val_loss: 0.0232\n",
            "Epoch 244/400\n",
            "1/1 [==============================] - 0s 136ms/step - loss: 0.0256 - val_loss: 0.0231\n",
            "Epoch 245/400\n",
            "1/1 [==============================] - 0s 122ms/step - loss: 0.0256 - val_loss: 0.0231\n",
            "Epoch 246/400\n",
            "1/1 [==============================] - 0s 130ms/step - loss: 0.0256 - val_loss: 0.0230\n",
            "Epoch 247/400\n",
            "1/1 [==============================] - 0s 123ms/step - loss: 0.0256 - val_loss: 0.0230\n",
            "Epoch 248/400\n",
            "1/1 [==============================] - 0s 127ms/step - loss: 0.0256 - val_loss: 0.0230\n",
            "Epoch 249/400\n",
            "1/1 [==============================] - 0s 133ms/step - loss: 0.0255 - val_loss: 0.0229\n",
            "Epoch 250/400\n",
            "1/1 [==============================] - 0s 133ms/step - loss: 0.0255 - val_loss: 0.0229\n",
            "Epoch 251/400\n",
            "1/1 [==============================] - 0s 127ms/step - loss: 0.0255 - val_loss: 0.0228\n",
            "Epoch 252/400\n",
            "1/1 [==============================] - 0s 122ms/step - loss: 0.0255 - val_loss: 0.0228\n",
            "Epoch 253/400\n",
            "1/1 [==============================] - 0s 126ms/step - loss: 0.0255 - val_loss: 0.0228\n",
            "Epoch 254/400\n",
            "1/1 [==============================] - 0s 122ms/step - loss: 0.0255 - val_loss: 0.0227\n",
            "Epoch 255/400\n",
            "1/1 [==============================] - 0s 124ms/step - loss: 0.0255 - val_loss: 0.0227\n",
            "Epoch 256/400\n",
            "1/1 [==============================] - 0s 133ms/step - loss: 0.0255 - val_loss: 0.0227\n",
            "Epoch 257/400\n",
            "1/1 [==============================] - 0s 139ms/step - loss: 0.0255 - val_loss: 0.0226\n",
            "Epoch 258/400\n",
            "1/1 [==============================] - 0s 130ms/step - loss: 0.0255 - val_loss: 0.0226\n",
            "Epoch 259/400\n",
            "1/1 [==============================] - 0s 125ms/step - loss: 0.0255 - val_loss: 0.0226\n",
            "Epoch 260/400\n",
            "1/1 [==============================] - 0s 124ms/step - loss: 0.0255 - val_loss: 0.0225\n",
            "Epoch 261/400\n",
            "1/1 [==============================] - 0s 122ms/step - loss: 0.0255 - val_loss: 0.0225\n",
            "Epoch 262/400\n",
            "1/1 [==============================] - 0s 136ms/step - loss: 0.0255 - val_loss: 0.0225\n",
            "Epoch 263/400\n",
            "1/1 [==============================] - 0s 117ms/step - loss: 0.0255 - val_loss: 0.0225\n",
            "Epoch 264/400\n",
            "1/1 [==============================] - 0s 123ms/step - loss: 0.0255 - val_loss: 0.0224\n",
            "Epoch 265/400\n",
            "1/1 [==============================] - 0s 128ms/step - loss: 0.0255 - val_loss: 0.0224\n",
            "Epoch 266/400\n",
            "1/1 [==============================] - 0s 127ms/step - loss: 0.0255 - val_loss: 0.0224\n",
            "Epoch 267/400\n",
            "1/1 [==============================] - 0s 122ms/step - loss: 0.0255 - val_loss: 0.0224\n",
            "Epoch 268/400\n",
            "1/1 [==============================] - 0s 133ms/step - loss: 0.0255 - val_loss: 0.0224\n",
            "Epoch 269/400\n",
            "1/1 [==============================] - 0s 128ms/step - loss: 0.0255 - val_loss: 0.0223\n",
            "Epoch 270/400\n",
            "1/1 [==============================] - 0s 130ms/step - loss: 0.0255 - val_loss: 0.0223\n",
            "Epoch 271/400\n",
            "1/1 [==============================] - 0s 126ms/step - loss: 0.0255 - val_loss: 0.0223\n",
            "Epoch 272/400\n",
            "1/1 [==============================] - 0s 130ms/step - loss: 0.0254 - val_loss: 0.0223\n",
            "Epoch 273/400\n",
            "1/1 [==============================] - 0s 127ms/step - loss: 0.0254 - val_loss: 0.0223\n",
            "Epoch 274/400\n",
            "1/1 [==============================] - 0s 138ms/step - loss: 0.0254 - val_loss: 0.0223\n",
            "Epoch 275/400\n",
            "1/1 [==============================] - 0s 126ms/step - loss: 0.0254 - val_loss: 0.0223\n",
            "Epoch 276/400\n",
            "1/1 [==============================] - 0s 124ms/step - loss: 0.0254 - val_loss: 0.0223\n",
            "Epoch 277/400\n",
            "1/1 [==============================] - 0s 133ms/step - loss: 0.0254 - val_loss: 0.0223\n",
            "Epoch 278/400\n",
            "1/1 [==============================] - 0s 121ms/step - loss: 0.0254 - val_loss: 0.0223\n",
            "Epoch 279/400\n",
            "1/1 [==============================] - 0s 125ms/step - loss: 0.0254 - val_loss: 0.0223\n",
            "Epoch 280/400\n",
            "1/1 [==============================] - 0s 124ms/step - loss: 0.0254 - val_loss: 0.0223\n",
            "Epoch 281/400\n",
            "1/1 [==============================] - 0s 129ms/step - loss: 0.0254 - val_loss: 0.0223\n",
            "Epoch 282/400\n",
            "1/1 [==============================] - 0s 132ms/step - loss: 0.0254 - val_loss: 0.0223\n",
            "Epoch 283/400\n",
            "1/1 [==============================] - 0s 148ms/step - loss: 0.0254 - val_loss: 0.0223\n",
            "Epoch 284/400\n",
            "1/1 [==============================] - 0s 131ms/step - loss: 0.0254 - val_loss: 0.0223\n",
            "Epoch 285/400\n",
            "1/1 [==============================] - 0s 120ms/step - loss: 0.0254 - val_loss: 0.0223\n",
            "Epoch 286/400\n",
            "1/1 [==============================] - 0s 122ms/step - loss: 0.0254 - val_loss: 0.0223\n",
            "Epoch 287/400\n",
            "1/1 [==============================] - 0s 119ms/step - loss: 0.0254 - val_loss: 0.0223\n",
            "Epoch 288/400\n",
            "1/1 [==============================] - 0s 121ms/step - loss: 0.0254 - val_loss: 0.0223\n",
            "Epoch 289/400\n",
            "1/1 [==============================] - 0s 118ms/step - loss: 0.0254 - val_loss: 0.0223\n",
            "Epoch 290/400\n",
            "1/1 [==============================] - 0s 139ms/step - loss: 0.0254 - val_loss: 0.0224\n",
            "Epoch 291/400\n",
            "1/1 [==============================] - 0s 127ms/step - loss: 0.0254 - val_loss: 0.0222\n",
            "Epoch 292/400\n",
            "1/1 [==============================] - 0s 120ms/step - loss: 0.0254 - val_loss: 0.0228\n",
            "Epoch 293/400\n",
            "1/1 [==============================] - 0s 130ms/step - loss: 0.0254 - val_loss: 0.0219\n",
            "Epoch 294/400\n",
            "1/1 [==============================] - 0s 124ms/step - loss: 0.0256 - val_loss: 0.0232\n",
            "Epoch 295/400\n",
            "1/1 [==============================] - 0s 133ms/step - loss: 0.0256 - val_loss: 0.0225\n",
            "Epoch 296/400\n",
            "1/1 [==============================] - 0s 113ms/step - loss: 0.0254 - val_loss: 0.0219\n",
            "Epoch 297/400\n",
            "1/1 [==============================] - 0s 114ms/step - loss: 0.0256 - val_loss: 0.0226\n",
            "Epoch 298/400\n",
            "1/1 [==============================] - 0s 126ms/step - loss: 0.0254 - val_loss: 0.0230\n",
            "Epoch 299/400\n",
            "1/1 [==============================] - 0s 120ms/step - loss: 0.0255 - val_loss: 0.0221\n",
            "Epoch 300/400\n",
            "1/1 [==============================] - 0s 122ms/step - loss: 0.0254 - val_loss: 0.0221\n",
            "Epoch 301/400\n",
            "1/1 [==============================] - 0s 119ms/step - loss: 0.0254 - val_loss: 0.0228\n",
            "Epoch 302/400\n",
            "1/1 [==============================] - 0s 116ms/step - loss: 0.0254 - val_loss: 0.0227\n",
            "Epoch 303/400\n",
            "1/1 [==============================] - 0s 123ms/step - loss: 0.0254 - val_loss: 0.0221\n",
            "Epoch 304/400\n",
            "1/1 [==============================] - 0s 115ms/step - loss: 0.0254 - val_loss: 0.0222\n",
            "Epoch 305/400\n",
            "1/1 [==============================] - 0s 115ms/step - loss: 0.0254 - val_loss: 0.0227\n",
            "Epoch 306/400\n",
            "1/1 [==============================] - 0s 120ms/step - loss: 0.0254 - val_loss: 0.0225\n",
            "Epoch 307/400\n",
            "1/1 [==============================] - 0s 138ms/step - loss: 0.0254 - val_loss: 0.0220\n",
            "Epoch 308/400\n",
            "1/1 [==============================] - 0s 114ms/step - loss: 0.0254 - val_loss: 0.0222\n",
            "Epoch 309/400\n",
            "1/1 [==============================] - 0s 114ms/step - loss: 0.0254 - val_loss: 0.0226\n",
            "Epoch 310/400\n",
            "1/1 [==============================] - 0s 118ms/step - loss: 0.0254 - val_loss: 0.0223\n",
            "Epoch 311/400\n",
            "1/1 [==============================] - 0s 129ms/step - loss: 0.0253 - val_loss: 0.0220\n",
            "Epoch 312/400\n",
            "1/1 [==============================] - 0s 116ms/step - loss: 0.0254 - val_loss: 0.0222\n",
            "Epoch 313/400\n",
            "1/1 [==============================] - 0s 119ms/step - loss: 0.0253 - val_loss: 0.0225\n",
            "Epoch 314/400\n",
            "1/1 [==============================] - 0s 132ms/step - loss: 0.0254 - val_loss: 0.0222\n",
            "Epoch 315/400\n",
            "1/1 [==============================] - 0s 115ms/step - loss: 0.0253 - val_loss: 0.0220\n",
            "Epoch 316/400\n",
            "1/1 [==============================] - 0s 127ms/step - loss: 0.0254 - val_loss: 0.0222\n",
            "Epoch 317/400\n",
            "1/1 [==============================] - 0s 118ms/step - loss: 0.0253 - val_loss: 0.0224\n",
            "Epoch 318/400\n",
            "1/1 [==============================] - 0s 118ms/step - loss: 0.0254 - val_loss: 0.0221\n",
            "Epoch 319/400\n",
            "1/1 [==============================] - 0s 117ms/step - loss: 0.0253 - val_loss: 0.0220\n",
            "Epoch 320/400\n",
            "1/1 [==============================] - 0s 120ms/step - loss: 0.0253 - val_loss: 0.0222\n",
            "Epoch 321/400\n",
            "1/1 [==============================] - 0s 125ms/step - loss: 0.0253 - val_loss: 0.0223\n",
            "Epoch 322/400\n",
            "1/1 [==============================] - 0s 113ms/step - loss: 0.0253 - val_loss: 0.0221\n",
            "Epoch 323/400\n",
            "1/1 [==============================] - 0s 117ms/step - loss: 0.0253 - val_loss: 0.0220\n",
            "Epoch 324/400\n",
            "1/1 [==============================] - 0s 128ms/step - loss: 0.0253 - val_loss: 0.0222\n",
            "Epoch 325/400\n",
            "1/1 [==============================] - 0s 114ms/step - loss: 0.0253 - val_loss: 0.0222\n",
            "Epoch 326/400\n",
            "1/1 [==============================] - 0s 121ms/step - loss: 0.0253 - val_loss: 0.0220\n",
            "Epoch 327/400\n",
            "1/1 [==============================] - 0s 114ms/step - loss: 0.0253 - val_loss: 0.0221\n",
            "Epoch 328/400\n",
            "1/1 [==============================] - 0s 129ms/step - loss: 0.0253 - val_loss: 0.0223\n",
            "Epoch 329/400\n",
            "1/1 [==============================] - 0s 119ms/step - loss: 0.0253 - val_loss: 0.0222\n",
            "Epoch 330/400\n",
            "1/1 [==============================] - 0s 123ms/step - loss: 0.0253 - val_loss: 0.0220\n",
            "Epoch 331/400\n",
            "1/1 [==============================] - 0s 121ms/step - loss: 0.0253 - val_loss: 0.0222\n",
            "Epoch 332/400\n",
            "1/1 [==============================] - 0s 120ms/step - loss: 0.0253 - val_loss: 0.0222\n",
            "Epoch 333/400\n",
            "1/1 [==============================] - 0s 118ms/step - loss: 0.0253 - val_loss: 0.0221\n",
            "Epoch 334/400\n",
            "1/1 [==============================] - 0s 121ms/step - loss: 0.0253 - val_loss: 0.0221\n",
            "Epoch 335/400\n",
            "1/1 [==============================] - 0s 124ms/step - loss: 0.0253 - val_loss: 0.0222\n",
            "Epoch 336/400\n",
            "1/1 [==============================] - 0s 128ms/step - loss: 0.0253 - val_loss: 0.0222\n",
            "Epoch 337/400\n",
            "1/1 [==============================] - 0s 117ms/step - loss: 0.0253 - val_loss: 0.0221\n",
            "Epoch 338/400\n",
            "1/1 [==============================] - 0s 119ms/step - loss: 0.0253 - val_loss: 0.0222\n",
            "Epoch 339/400\n",
            "1/1 [==============================] - 0s 125ms/step - loss: 0.0253 - val_loss: 0.0222\n",
            "Epoch 340/400\n",
            "1/1 [==============================] - 0s 135ms/step - loss: 0.0253 - val_loss: 0.0221\n",
            "Epoch 341/400\n",
            "1/1 [==============================] - 0s 133ms/step - loss: 0.0253 - val_loss: 0.0221\n",
            "Epoch 342/400\n",
            "1/1 [==============================] - 0s 135ms/step - loss: 0.0253 - val_loss: 0.0222\n",
            "Epoch 343/400\n",
            "1/1 [==============================] - 0s 129ms/step - loss: 0.0253 - val_loss: 0.0221\n",
            "Epoch 344/400\n",
            "1/1 [==============================] - 0s 123ms/step - loss: 0.0253 - val_loss: 0.0221\n",
            "Epoch 345/400\n",
            "1/1 [==============================] - 0s 125ms/step - loss: 0.0253 - val_loss: 0.0222\n",
            "Epoch 346/400\n",
            "1/1 [==============================] - 0s 120ms/step - loss: 0.0253 - val_loss: 0.0221\n",
            "Epoch 347/400\n",
            "1/1 [==============================] - 0s 120ms/step - loss: 0.0253 - val_loss: 0.0221\n",
            "Epoch 348/400\n",
            "1/1 [==============================] - 0s 132ms/step - loss: 0.0253 - val_loss: 0.0221\n",
            "Epoch 349/400\n",
            "1/1 [==============================] - 0s 123ms/step - loss: 0.0253 - val_loss: 0.0221\n",
            "Epoch 350/400\n",
            "1/1 [==============================] - 0s 119ms/step - loss: 0.0253 - val_loss: 0.0220\n",
            "Epoch 351/400\n",
            "1/1 [==============================] - 0s 122ms/step - loss: 0.0253 - val_loss: 0.0221\n",
            "Epoch 352/400\n",
            "1/1 [==============================] - 0s 120ms/step - loss: 0.0253 - val_loss: 0.0221\n",
            "Epoch 353/400\n",
            "1/1 [==============================] - 0s 121ms/step - loss: 0.0253 - val_loss: 0.0220\n",
            "Epoch 354/400\n",
            "1/1 [==============================] - 0s 125ms/step - loss: 0.0253 - val_loss: 0.0221\n",
            "Epoch 355/400\n",
            "1/1 [==============================] - 0s 130ms/step - loss: 0.0253 - val_loss: 0.0221\n",
            "Epoch 356/400\n",
            "1/1 [==============================] - 0s 125ms/step - loss: 0.0253 - val_loss: 0.0220\n",
            "Epoch 357/400\n",
            "1/1 [==============================] - 0s 121ms/step - loss: 0.0253 - val_loss: 0.0221\n",
            "Epoch 358/400\n",
            "1/1 [==============================] - 0s 124ms/step - loss: 0.0253 - val_loss: 0.0221\n",
            "Epoch 359/400\n",
            "1/1 [==============================] - 0s 120ms/step - loss: 0.0253 - val_loss: 0.0220\n",
            "Epoch 360/400\n",
            "1/1 [==============================] - 0s 123ms/step - loss: 0.0253 - val_loss: 0.0221\n",
            "Epoch 361/400\n",
            "1/1 [==============================] - 0s 127ms/step - loss: 0.0253 - val_loss: 0.0220\n",
            "Epoch 362/400\n",
            "1/1 [==============================] - 0s 116ms/step - loss: 0.0253 - val_loss: 0.0220\n",
            "Epoch 363/400\n",
            "1/1 [==============================] - 0s 121ms/step - loss: 0.0253 - val_loss: 0.0220\n",
            "Epoch 364/400\n",
            "1/1 [==============================] - 0s 125ms/step - loss: 0.0253 - val_loss: 0.0220\n",
            "Epoch 365/400\n",
            "1/1 [==============================] - 0s 114ms/step - loss: 0.0253 - val_loss: 0.0220\n",
            "Epoch 366/400\n",
            "1/1 [==============================] - 0s 118ms/step - loss: 0.0253 - val_loss: 0.0220\n",
            "Epoch 367/400\n",
            "1/1 [==============================] - 0s 117ms/step - loss: 0.0253 - val_loss: 0.0220\n",
            "Epoch 368/400\n",
            "1/1 [==============================] - 0s 124ms/step - loss: 0.0253 - val_loss: 0.0220\n",
            "Epoch 369/400\n",
            "1/1 [==============================] - 0s 127ms/step - loss: 0.0253 - val_loss: 0.0220\n",
            "Epoch 370/400\n",
            "1/1 [==============================] - 0s 126ms/step - loss: 0.0252 - val_loss: 0.0220\n",
            "Epoch 371/400\n",
            "1/1 [==============================] - 0s 116ms/step - loss: 0.0252 - val_loss: 0.0220\n",
            "Epoch 372/400\n",
            "1/1 [==============================] - 0s 118ms/step - loss: 0.0252 - val_loss: 0.0220\n",
            "Epoch 373/400\n",
            "1/1 [==============================] - 0s 120ms/step - loss: 0.0252 - val_loss: 0.0220\n",
            "Epoch 374/400\n",
            "1/1 [==============================] - 0s 119ms/step - loss: 0.0252 - val_loss: 0.0220\n",
            "Epoch 375/400\n",
            "1/1 [==============================] - 0s 115ms/step - loss: 0.0252 - val_loss: 0.0220\n",
            "Epoch 376/400\n",
            "1/1 [==============================] - 0s 120ms/step - loss: 0.0252 - val_loss: 0.0220\n",
            "Epoch 377/400\n",
            "1/1 [==============================] - 0s 123ms/step - loss: 0.0252 - val_loss: 0.0220\n",
            "Epoch 378/400\n",
            "1/1 [==============================] - 0s 119ms/step - loss: 0.0252 - val_loss: 0.0220\n",
            "Epoch 379/400\n",
            "1/1 [==============================] - 0s 118ms/step - loss: 0.0252 - val_loss: 0.0220\n",
            "Epoch 380/400\n",
            "1/1 [==============================] - 0s 121ms/step - loss: 0.0252 - val_loss: 0.0219\n",
            "Epoch 381/400\n",
            "1/1 [==============================] - 0s 120ms/step - loss: 0.0252 - val_loss: 0.0220\n",
            "Epoch 382/400\n",
            "1/1 [==============================] - 0s 120ms/step - loss: 0.0252 - val_loss: 0.0219\n",
            "Epoch 383/400\n",
            "1/1 [==============================] - 0s 122ms/step - loss: 0.0252 - val_loss: 0.0219\n",
            "Epoch 384/400\n",
            "1/1 [==============================] - 0s 117ms/step - loss: 0.0252 - val_loss: 0.0219\n",
            "Epoch 385/400\n",
            "1/1 [==============================] - 0s 125ms/step - loss: 0.0252 - val_loss: 0.0219\n",
            "Epoch 386/400\n",
            "1/1 [==============================] - 0s 119ms/step - loss: 0.0252 - val_loss: 0.0219\n",
            "Epoch 387/400\n",
            "1/1 [==============================] - 0s 118ms/step - loss: 0.0252 - val_loss: 0.0219\n",
            "Epoch 388/400\n",
            "1/1 [==============================] - 0s 118ms/step - loss: 0.0252 - val_loss: 0.0219\n",
            "Epoch 389/400\n",
            "1/1 [==============================] - 0s 134ms/step - loss: 0.0252 - val_loss: 0.0219\n",
            "Epoch 390/400\n",
            "1/1 [==============================] - 0s 118ms/step - loss: 0.0252 - val_loss: 0.0219\n",
            "Epoch 391/400\n",
            "1/1 [==============================] - 0s 122ms/step - loss: 0.0252 - val_loss: 0.0219\n",
            "Epoch 392/400\n",
            "1/1 [==============================] - 0s 133ms/step - loss: 0.0252 - val_loss: 0.0219\n",
            "Epoch 393/400\n",
            "1/1 [==============================] - 0s 127ms/step - loss: 0.0252 - val_loss: 0.0219\n",
            "Epoch 394/400\n",
            "1/1 [==============================] - 0s 120ms/step - loss: 0.0252 - val_loss: 0.0219\n",
            "Epoch 395/400\n",
            "1/1 [==============================] - 0s 122ms/step - loss: 0.0252 - val_loss: 0.0219\n",
            "Epoch 396/400\n",
            "1/1 [==============================] - 0s 117ms/step - loss: 0.0252 - val_loss: 0.0219\n",
            "Epoch 397/400\n",
            "1/1 [==============================] - 0s 121ms/step - loss: 0.0252 - val_loss: 0.0219\n",
            "Epoch 398/400\n",
            "1/1 [==============================] - 0s 125ms/step - loss: 0.0252 - val_loss: 0.0219\n",
            "Epoch 399/400\n",
            "1/1 [==============================] - 0s 125ms/step - loss: 0.0252 - val_loss: 0.0219\n",
            "Epoch 400/400\n",
            "1/1 [==============================] - 0s 118ms/step - loss: 0.0252 - val_loss: 0.0219\n"
          ],
          "name": "stdout"
        }
      ]
    },
    {
      "cell_type": "code",
      "metadata": {
        "colab": {
          "base_uri": "https://localhost:8080/",
          "height": 540
        },
        "id": "3DNIFEjz6V3q",
        "outputId": "6141ab12-a429-4109-c0eb-09b51233a164"
      },
      "source": [
        "fig = plt.figure(figsize=(12, 9))\n",
        "plt.plot(history.history['loss'], label=\"loss\")\n",
        "plt.plot(history.history['val_loss'], label=\"val_loss\")\n",
        "plt.legend()\n",
        "plt.show()"
      ],
      "execution_count": 36,
      "outputs": [
        {
          "output_type": "display_data",
          "data": {
            "image/png": "[encoded data removed]",
            "text/plain": [
              "<Figure size 864x648 with 1 Axes>"
            ]
          },
          "metadata": {
            "tags": []
          }
        }
      ]
    },
    {
      "cell_type": "code",
      "metadata": {
        "id": "jw1w3x1iAzuZ"
      },
      "source": [
        "def model_forecast(model, series, window_size):\n",
        "  ds = tf.data.Dataset.from_tensor_slices(series)\n",
        "  ds = ds.window(window_size, shift=1, drop_remainder=True) \n",
        "  ds = ds.flat_map(lambda w: w.batch(window_size))\n",
        "  ds = ds.batch(SIZE).prefetch(1)\n",
        "  forecast = model.predict(ds)\n",
        "  return forecast"
      ],
      "execution_count": 37,
      "outputs": []
    },
    {
      "cell_type": "code",
      "metadata": {
        "colab": {
          "base_uri": "https://localhost:8080/",
          "height": 164
        },
        "id": "D2_1Z5HqCJsB",
        "outputId": "50448dcf-9352-426d-9350-1a335413f258"
      },
      "source": [
        "ValidDataset.reshape(-1, -1)"
      ],
      "execution_count": 42,
      "outputs": [
        {
          "output_type": "error",
          "ename": "AttributeError",
          "evalue": "ignored",
          "traceback": [
            "\u001b[0;31m---------------------------------------------------------------------------\u001b[0m",
            "\u001b[0;31mAttributeError\u001b[0m                            Traceback (most recent call last)",
            "\u001b[0;32m<ipython-input-42-8b627b21b612>\u001b[0m in \u001b[0;36m<module>\u001b[0;34m()\u001b[0m\n\u001b[0;32m----> 1\u001b[0;31m \u001b[0mValidDataset\u001b[0m\u001b[0;34m.\u001b[0m\u001b[0mreshape\u001b[0m\u001b[0;34m(\u001b[0m\u001b[0;34m-\u001b[0m\u001b[0;36m1\u001b[0m\u001b[0;34m,\u001b[0m \u001b[0;34m-\u001b[0m\u001b[0;36m1\u001b[0m\u001b[0;34m)\u001b[0m\u001b[0;34m\u001b[0m\u001b[0;34m\u001b[0m\u001b[0m\n\u001b[0m",
            "\u001b[0;31mAttributeError\u001b[0m: 'PrefetchDataset' object has no attribute 'reshape'"
          ]
        }
      ]
    },
    {
      "cell_type": "code",
      "metadata": {
        "id": "21iqf27EA9tA"
      },
      "source": [
        "def windowed_dataset(series, window_size, batch_size): \n",
        "  series = tf.expand_dims(series, axis=-1)\n",
        "  dataset = tf.data.Dataset.from_tensor_slices(series)\n",
        "  dataset = dataset.window(window_size + 1, shift=1, drop_remainder=True) \n",
        "  dataset = dataset.flat_map(lambda window: window.batch(window_size + 1))\n",
        "  dataset = dataset.map(lambda window: (window[:-1], window[-1:]))\n",
        "  dataset = dataset.batch(batch_size).prefetch(1)\n",
        "  return dataset"
      ],
      "execution_count": null,
      "outputs": []
    }
  ]
}