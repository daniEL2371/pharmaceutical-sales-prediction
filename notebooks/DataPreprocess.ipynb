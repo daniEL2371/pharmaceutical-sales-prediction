{
 "cells": [
  {
   "cell_type": "code",
   "execution_count": 105,
   "id": "1582b0d2",
   "metadata": {},
   "outputs": [],
   "source": [
    "import os\n",
    "import sys\n",
    "from IPython.display import Markdown, display, Image\n",
    "import numpy as np\n",
    "import pandas as pd\n",
    "import random\n",
    "import math\n",
    "import dvc.api\n",
    "sys.path.append(os.path.abspath(os.path.join('../scripts')))\n",
    "from helper import Helper\n",
    "from app_logger import App_Logger\n",
    "import plots\n",
    "from sklearn import preprocessing\n"
   ]
  },
  {
   "cell_type": "code",
   "execution_count": 2,
   "id": "6dc109e2",
   "metadata": {},
   "outputs": [],
   "source": [
    "import warnings\n",
    "warnings.filterwarnings('ignore')"
   ]
  },
  {
   "cell_type": "code",
   "execution_count": 3,
   "id": "5d2c52c0",
   "metadata": {},
   "outputs": [],
   "source": [
    "helper = Helper()"
   ]
  },
  {
   "cell_type": "code",
   "execution_count": 6,
   "id": "4eeac965",
   "metadata": {},
   "outputs": [
    {
     "name": "stdout",
     "output_type": "stream",
     "text": [
      "file read as csv\n",
      "file read as csv\n",
      "file read as csv\n"
     ]
    }
   ],
   "source": [
    "train_df = helper.read_csv(\"../data/train.csv\")\n",
    "store_df = helper.read_csv(\"../data/store.csv\")\n",
    "test_df = helper.read_csv(\"../data/test.csv\")"
   ]
  },
  {
   "cell_type": "code",
   "execution_count": 87,
   "id": "880e6308",
   "metadata": {},
   "outputs": [],
   "source": [
    "class CleanAndTransformTrainData:\n",
    "    \"\"\"\n",
    "        this is a dataframe used to clean train dataframe\n",
    "    \"\"\"\n",
    "    def __init__(self):\n",
    "        pass\n",
    "    \n",
    "    def drop_closed_stores(self, df):\n",
    "        \n",
    "        try:\n",
    "            cleaned = df.query(\"Open == 1\")\n",
    "            return cleaned\n",
    "        except:\n",
    "            pass\n",
    "        \n",
    "    def convert_to_datatime(self, df):  \n",
    "        try:\n",
    "            df['Date'] = pd.to_datetime(train_df['Date'])\n",
    "            return df\n",
    "        except:\n",
    "            pass\n",
    "    \n",
    "    def sort_by_date(self, df):\n",
    "        return df.sort_values(by=[\"Date\"], ascending=False)\n",
    "            \n",
    "    \n",
    "    def to_str(self, df):\n",
    "        df['StateHoliday'] = df['StateHoliday'].astype(str)\n",
    "        return df\n",
    "    \n",
    "    \n",
    "    \"\"\"Extracts Day Month and Year from Date\"\"\"\n",
    "    def transform_date(self, df):\n",
    "        \n",
    "        df['Date'] = pd.to_datetime(df['Date'])\n",
    "        df['Year'] = pd.DatetimeIndex(df['Date']).year\n",
    "        df['Month'] = pd.DatetimeIndex(df['Date']).month\n",
    "        df['Day'] = pd.DatetimeIndex(df['Date']).day\n",
    "        df['DayInMonth'] = df['Day'].apply(lambda x: self.to_month_category(x))\n",
    "        return df\n",
    "    \n",
    "    \"\"\"add called weekends \"\"\"\n",
    "    def add_weekday_col(self, df):\n",
    "      \n",
    "        df[\"Weekends\"] = df[\"DayOfWeek\"].apply(lambda x: 1 if x > 5 else 0)\n",
    "        return df\n",
    "    \n",
    "    def to_month_category(self, value):\n",
    "        try:\n",
    "            \n",
    "            if (value >= 1 and int(value) < 10):\n",
    "                return \"BegMonth\"\n",
    "\n",
    "            elif (value >= 10 and value < 20):\n",
    "                return \"MidMonth\"\n",
    "            else:\n",
    "                return \"EndMonth\"\n",
    "        except:\n",
    "            pass\n",
    "        \n",
    "    def get_cleaned(self, df):\n",
    "        df = self.drop_closed_stores(df)\n",
    "        df = self.to_str(df)\n",
    "        df = self.convert_to_datatime(df)\n",
    "        df = self.transform_date(df)\n",
    "        df = self.add_weekday_col(df)\n",
    "#         df = self.to_month_category(df)\n",
    "        return df\n",
    "     \n",
    "   \n",
    "    "
   ]
  },
  {
   "cell_type": "code",
   "execution_count": 88,
   "id": "8176d517",
   "metadata": {},
   "outputs": [],
   "source": [
    "class cleanStoreDf:\n",
    "    \"\"\" This is a class to clean store df\"\"\"\n",
    "    \n",
    "    def __init__(self):\n",
    "        pass\n",
    "    \n",
    "    def handle_missing_value(self, df):\n",
    "        \"\"\"We handled CompetitionDistance by replacing it with median\"\"\"\n",
    "        \n",
    "        \n",
    "        df['CompetitionDistance'] = df['CompetitionDistance'].fillna(df['CompetitionDistance'].max())\n",
    "        df['Promo2SinceWeek'] = df['Promo2SinceWeek'].fillna(df['Promo2SinceWeek'].max())\n",
    "        df['Promo2SinceYear'] = df['Promo2SinceYear'].fillna(df['Promo2SinceWeek'].max())\n",
    "        df['PromoInterval'] = df['PromoInterval'].fillna(df['PromoInterval'].mode()[0])\n",
    "        df['CompetitionOpenSinceYear'] = df['CompetitionOpenSinceYear'].fillna(df['CompetitionOpenSinceYear'].mode()[0])\n",
    "        df['CompetitionOpenSinceMonth'] = df['CompetitionOpenSinceMonth'].fillna(df['CompetitionOpenSinceMonth'].mode()[0])\n",
    "        \n",
    "        return df\n",
    "    def get_cleaned(self, df):\n",
    "        return self.handle_missing_value(df)\n",
    "             "
   ]
  },
  {
   "cell_type": "code",
   "execution_count": 145,
   "id": "c41f5093",
   "metadata": {},
   "outputs": [],
   "source": [
    "class PreprocessRossmanData:\n",
    "    \n",
    "    def __init__(self):\n",
    "        pass\n",
    "    \n",
    "    def encode_train_data(self, df):\n",
    "        \n",
    "        StateHolidayEncoder = preprocessing.LabelEncoder()\n",
    "        DayInMonthEncoder = preprocessing.LabelEncoder()\n",
    "        \n",
    "        df['StateHoliday'] = StateHolidayEncoder.fit_transform(df['StateHoliday'])\n",
    "        df['DayInMonth'] = DayInMonthEncoder.fit_transform(df['DayInMonth'])\n",
    "        return df\n",
    "        \n",
    "    def encode_store_data(self, df):\n",
    "        StoreTypeEncoder = preprocessing.LabelEncoder()\n",
    "        AssortmentEncoder = preprocessing.LabelEncoder()\n",
    "        PromoIntervalEncoder = preprocessing.LabelEncoder()\n",
    "\n",
    "        \n",
    "#         PromoInterval\n",
    "        df['StoreType'] = StoreTypeEncoder.fit_transform(df['StoreType'])\n",
    "        df['Assortment'] = AssortmentEncoder.fit_transform(df['Assortment'])\n",
    "        df['PromoInterval'] = PromoIntervalEncoder.fit_transform(df['PromoInterval'])\n",
    "\n",
    "        return df\n",
    "    \n",
    "    def merge_encoded(self, train_enc, store_enc):\n",
    "        return pd.merge(train_enc, store_enc, on=\"Store\")\n",
    "    \n",
    "    def process(self, train_df, store_df):\n",
    "        \n",
    "        enc_train = self.encode_train_data(train_df)\n",
    "        enc_store = self.encode_store_data(store_df)\n",
    "        enc_train = enc_train.drop(columns=[\"Date\"], axis=1)\n",
    "        merged = self.merge_encoded(enc_train, enc_store)\n",
    "        sclaed = helper.scaler(merged, merged.columns.to_list(), mode=\"standard\")\n",
    "        \n",
    "        return sclaed\n",
    "    \n",
    "        \n",
    "        \n",
    "        \n",
    "        \n",
    "        \n",
    "    "
   ]
  },
  {
   "cell_type": "code",
   "execution_count": 146,
   "id": "f5cb8b3a",
   "metadata": {},
   "outputs": [],
   "source": [
    "\n",
    "clean_train_df = CleanAndTransformTrainData().get_cleaned(train_df)\n",
    "clean_store_df = cleanStoreDf().get_cleaned(store_df)\n"
   ]
  },
  {
   "cell_type": "code",
   "execution_count": 149,
   "id": "ff97fa5b",
   "metadata": {},
   "outputs": [],
   "source": [
    "processed_train_data = PreprocessRossmanData().process(clean_train_df, clean_store_df)"
   ]
  },
  {
   "cell_type": "code",
   "execution_count": null,
   "id": "6d06a5a2",
   "metadata": {},
   "outputs": [],
   "source": []
  }
 ],
 "metadata": {
  "kernelspec": {
   "display_name": "Python 3",
   "language": "python",
   "name": "python3"
  },
  "language_info": {
   "codemirror_mode": {
    "name": "ipython",
    "version": 3
   },
   "file_extension": ".py",
   "mimetype": "text/x-python",
   "name": "python",
   "nbconvert_exporter": "python",
   "pygments_lexer": "ipython3",
   "version": "3.9.4"
  }
 },
 "nbformat": 4,
 "nbformat_minor": 5
}
